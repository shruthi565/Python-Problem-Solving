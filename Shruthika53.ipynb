{
  "nbformat": 4,
  "nbformat_minor": 0,
  "metadata": {
    "colab": {
      "provenance": [],
      "name": "Shruthika53",
      "include_colab_link": true
    },
    "kernelspec": {
      "name": "python3",
      "display_name": "Python 3"
    },
    "language_info": {
      "name": "python"
    }
  },
  "cells": [
    {
      "cell_type": "markdown",
      "metadata": {
        "id": "view-in-github",
        "colab_type": "text"
      },
      "source": [
        "<a href=\"https://colab.research.google.com/github/shruthi565/Python-Problem-Solving/blob/main/Shruthika53.ipynb\" target=\"_parent\"><img src=\"https://colab.research.google.com/assets/colab-badge.svg\" alt=\"Open In Colab\"/></a>"
      ]
    },
    {
      "cell_type": "code",
      "execution_count": null,
      "metadata": {
        "id": "GiEnbO_q5SUn",
        "colab": {
          "base_uri": "https://localhost:8080/"
        },
        "outputId": "4d7092c4-f81f-4794-b4e5-b7b86c7b5837"
      },
      "outputs": [
        {
          "output_type": "stream",
          "name": "stdout",
          "text": [
            "5\n",
            "1\n"
          ]
        }
      ],
      "source": [
        "def trailing_zeros(n):\n",
        "  if n<5:\n",
        "     return 0\n",
        "  sum=0\n",
        "  while n>=5:\n",
        "    n=n//5\n",
        "    sum+=n\n",
        "  return sum\n",
        "\n",
        "n=int(input())\n",
        "print(trailing_zeros(n))"
      ]
    },
    {
      "cell_type": "code",
      "source": [
        "# Get input from the user\n",
        "n = int(input(\"Enter an integer: \"))\n",
        "\n",
        "if n < 0:\n",
        "    print(f\"{n} is not a palindrome number.\")\n",
        "else:\n",
        "    original_n = n\n",
        "    reversed_n = 0\n",
        "    while n > 0:\n",
        "        digit = n % 10\n",
        "        reversed_n = reversed_n * 10 + digit\n",
        "        n //= 10\n",
        "\n",
        "    if original_n == reversed_n:\n",
        "        print(f\"{original_n} is a palindrome number.\")\n",
        "    else:\n",
        "        print(f\"{original_n} is not a palindrome number.\")"
      ],
      "metadata": {
        "id": "S0rB0C2RPxL5"
      },
      "execution_count": null,
      "outputs": []
    },
    {
      "cell_type": "code",
      "source": [],
      "metadata": {
        "id": "9pnsurwpPzKR"
      },
      "execution_count": null,
      "outputs": []
    },
    {
      "cell_type": "code",
      "source": [
        "def dislike_trees(n):\n",
        "  if n % 3 == 0 and n % 10 == 3:\n",
        "    return n\n",
        "  else:\n",
        "    return False\n",
        "\n",
        "n=int(input())\n",
        "print(dislike_trees(n))"
      ],
      "metadata": {
        "colab": {
          "base_uri": "https://localhost:8080/"
        },
        "id": "EdXj5PmXCDXT",
        "outputId": "e9dd7347-edb3-43bf-c5d8-a56015b2b279"
      },
      "execution_count": null,
      "outputs": [
        {
          "output_type": "stream",
          "name": "stdout",
          "text": [
            "13\n",
            "False\n"
          ]
        }
      ]
    },
    {
      "cell_type": "code",
      "source": [
        "n=int(input())\n",
        "for _ in range(n):\n",
        "  k=int(input())\n",
        "  i,count=1,0\n",
        "  while 1:K\n",
        "    if i%3!=0 and i%10!=3:\n",
        "      count+=1\n",
        "      if count==k:\n",
        "        print(i)\n",
        "        break\n",
        "    i+=1"
      ],
      "metadata": {
        "colab": {
          "base_uri": "https://localhost:8080/"
        },
        "id": "gpoK3y0NElsD",
        "outputId": "543ed40e-5ec9-4038-8601-3c83ec5d1c38"
      },
      "execution_count": null,
      "outputs": [
        {
          "output_type": "stream",
          "name": "stdout",
          "text": [
            "10\n",
            "1\n",
            "1\n",
            "2\n",
            "2\n",
            "3\n",
            "4\n",
            "4\n",
            "5\n",
            "5\n",
            "7\n",
            "6\n",
            "8\n",
            "7\n",
            "10\n",
            "8\n",
            "11\n",
            "9\n",
            "14\n",
            "1000\n",
            "1666\n"
          ]
        }
      ]
    },
    {
      "cell_type": "code",
      "metadata": {
        "colab": {
          "base_uri": "https://localhost:8080/"
        },
        "id": "s_6vJ6uW8f9u",
        "outputId": "d3d169d4-fabc-4a47-f7cc-2335903b9df0"
      },
      "source": [
        "input_str = input(\"Enter numbers separated by spaces: \")\n",
        "try:\n",
        "    nums = list(map(int, input_str.split()))\n",
        "    seen = set()\n",
        "    has_duplicates = False\n",
        "    for i in nums:\n",
        "        if i in seen:\n",
        "            has_duplicates = True\n",
        "            break\n",
        "        seen.add(i)\n",
        "\n",
        "    print(\"True\")\n",
        "\n",
        "except ValueError:\n",
        "    print(\"False\")"
      ],
      "execution_count": null,
      "outputs": [
        {
          "output_type": "stream",
          "name": "stdout",
          "text": [
            "Enter numbers separated by spaces: 5 1 2 4\n",
            "True\n"
          ]
        }
      ]
    },
    {
      "cell_type": "code",
      "source": [
        "n=int(input(\"enter a num:\"))\n",
        "vote=list(map(int,input(\"enter a vote:\").split()))\n",
        "age=list(map(int,input(\"enter a age:\").split()))\n",
        "c=[0]*max(vote)\n",
        "for i in range(n):\n",
        "  if age[i]>=18:\n",
        "    c[vote[i]-1]+=1\n",
        "temp=sorted(c,reverse=True)\n",
        "if temp[0]==temp[1]:\n",
        "  print(-1)\n",
        "else:\n",
        "  print(c.index(temp[0])+1)\n"
      ],
      "metadata": {
        "colab": {
          "base_uri": "https://localhost:8080/"
        },
        "id": "3h7i64YANV9h",
        "outputId": "5098e307-ba76-4dbf-f25d-5f38ad8c283c"
      },
      "execution_count": null,
      "outputs": [
        {
          "output_type": "stream",
          "name": "stdout",
          "text": [
            "enter a num:5\n",
            "enter a vote:1 2 1 3 2\n",
            "enter a age:17 20 18 14 19\n",
            "2\n"
          ]
        }
      ]
    },
    {
      "cell_type": "code",
      "source": [
        "l=(map(int,input(\"entet nums:\")))\n",
        "for i in nums:\n",
        "  if i is sorted:\n",
        "    print(\"true\")\n",
        "\n",
        "else:\n",
        "    print(\"false\")"
      ],
      "metadata": {
        "colab": {
          "base_uri": "https://localhost:8080/"
        },
        "id": "As34_qh1W6dt",
        "outputId": "bb3d704c-da11-4e80-ac86-c790e1b51fc5"
      },
      "execution_count": null,
      "outputs": [
        {
          "output_type": "stream",
          "name": "stdout",
          "text": [
            "entet nums:1 2 3 4\n",
            "false\n"
          ]
        }
      ]
    },
    {
      "cell_type": "code",
      "source": [
        "l=[2,3,4,5,6,7]\n",
        "for i in range(len(l)-1):\n",
        "  if l[i]>=l[i+1]:\n",
        "    print(False)\n",
        "    break\n",
        "else:\n",
        "  print(true)\n"
      ],
      "metadata": {
        "colab": {
          "base_uri": "https://localhost:8080/"
        },
        "id": "Cvx_BpQccieP",
        "outputId": "9148aae0-7372-4175-bb93-129112ee9df4"
      },
      "execution_count": null,
      "outputs": [
        {
          "output_type": "stream",
          "name": "stdout",
          "text": [
            "True\n"
          ]
        }
      ]
    },
    {
      "cell_type": "code",
      "source": [
        "books=[2,3,4,1,2,6,7,3,5,1,6,3,2,4]\n",
        "k=4\n",
        "m=0\n",
        "for i in range(len(books)-k+1):\n",
        "  sum=0\n",
        "  for j in range(i,i+k):\n",
        "    sum+=books[j]\n",
        "  m=max(m,sum)\n",
        "print(m)"
      ],
      "metadata": {
        "colab": {
          "base_uri": "https://localhost:8080/"
        },
        "id": "JuRqJ-WLo81i",
        "outputId": "6f7f7df0-3990-4ccc-d339-8250af15ba0e"
      },
      "execution_count": null,
      "outputs": [
        {
          "output_type": "stream",
          "name": "stdout",
          "text": [
            "21\n"
          ]
        }
      ]
    },
    {
      "cell_type": "code",
      "source": [
        "books=[2,3,4,1,2,6,7,3,5,1,6,3,2,4]\n",
        "k=4\n",
        "sum=0\n",
        "for i in range(k):\n",
        "  sum+=books[i]\n",
        "m=sum\n",
        "\n",
        "for i in range(1,len(books)-k):\n",
        "  sum=sum-books[i-1]+books[i+k]\n",
        "  m=max(m,sum)\n",
        "print(m)"
      ],
      "metadata": {
        "colab": {
          "base_uri": "https://localhost:8080/"
        },
        "id": "GgvcChsRqJ0k",
        "outputId": "60ff018d-42bf-4652-dbe9-cad9353023b5"
      },
      "execution_count": null,
      "outputs": [
        {
          "output_type": "stream",
          "name": "stdout",
          "text": [
            "21\n"
          ]
        }
      ]
    },
    {
      "cell_type": "code",
      "source": [
        "books=[2,3,4,1,2,6,7,3,5,1,6,3,2,4]\n",
        "k=4\n",
        "sum=0\n",
        "for i in range(k):\n",
        "  sum+=books[i]\n",
        "m=sum\n",
        "\n",
        "for i in range(1,len(books)-k):\n",
        "  sum=sum-books[i-1]+books[i+k]\n",
        "  m=max(m,sum)\n",
        "  avg=m/k\n",
        "\n",
        "print(avg)"
      ],
      "metadata": {
        "colab": {
          "base_uri": "https://localhost:8080/"
        },
        "id": "Z8XI6jC0AyXV",
        "outputId": "fa043404-dc3a-4dc2-c418-a5712ae995a5"
      },
      "execution_count": null,
      "outputs": [
        {
          "output_type": "stream",
          "name": "stdout",
          "text": [
            "5.25\n"
          ]
        }
      ]
    },
    {
      "cell_type": "code",
      "source": [
        "l=[2,3,4,5,2,1]\n",
        "for i in range(len(l)):\n",
        "  print(\"\")\n",
        "  for j in range(i,len(l)):\n",
        "    print(l[i:j],end=\" \")"
      ],
      "metadata": {
        "colab": {
          "base_uri": "https://localhost:8080/"
        },
        "id": "EVWmZ1v3HeQI",
        "outputId": "eefa1896-a262-441c-f9e3-750a13af0a1a"
      },
      "execution_count": null,
      "outputs": [
        {
          "output_type": "stream",
          "name": "stdout",
          "text": [
            "\n",
            "[] [2] [2, 3] [2, 3, 4] [2, 3, 4, 5] [2, 3, 4, 5, 2] \n",
            "[] [3] [3, 4] [3, 4, 5] [3, 4, 5, 2] \n",
            "[] [4] [4, 5] [4, 5, 2] \n",
            "[] [5] [5, 2] \n",
            "[] [2] \n",
            "[] "
          ]
        }
      ]
    },
    {
      "cell_type": "code",
      "source": [
        "arr=[2,4,5,6,3,2,4,2,1,8,7,9]\n",
        "k=13\n",
        "l,r,sum,m=0,0,0,0\n",
        "while r<len(arr):\n",
        "  sum+=arr[r]\n",
        "  while sum>k:\n",
        "    sum=sum-arr[l]\n",
        "    l=l+1\n",
        "  m=max(m,r-l+1)\n",
        "  r+=1\n",
        "print(m)\n"
      ],
      "metadata": {
        "colab": {
          "base_uri": "https://localhost:8080/"
        },
        "id": "CoIKhHDhMxwi",
        "outputId": "50063a0e-09ef-4c93-fc24-95eb97596be5"
      },
      "execution_count": null,
      "outputs": [
        {
          "output_type": "stream",
          "name": "stdout",
          "text": [
            "5\n"
          ]
        }
      ]
    },
    {
      "cell_type": "code",
      "source": [
        "arr=[2,4,5,6,3,2,4,2,1,8,7,9]\n",
        "k=13\n",
        "l,r,sum,m=0,0,0,0\n",
        "while r<len(arr):\n",
        "  sum+=arr[r]\n",
        "  while sum>k:\n",
        "    sum=sum-arr[l]\n",
        "    l=l+1\n",
        "  if m<r-l+1:\n",
        "    m=r-l+1\n",
        "    i1=l\n",
        "    i2=r\n",
        "  r+=1\n",
        "print(l[i1:i2])\n"
      ],
      "metadata": {
        "colab": {
          "base_uri": "https://localhost:8080/",
          "height": 176
        },
        "id": "Ub3uS0YCPICW",
        "outputId": "f1859ef1-46d3-4aee-8816-6a1ed18945c1"
      },
      "execution_count": null,
      "outputs": [
        {
          "output_type": "error",
          "ename": "TypeError",
          "evalue": "'int' object is not subscriptable",
          "traceback": [
            "\u001b[0;31m---------------------------------------------------------------------------\u001b[0m",
            "\u001b[0;31mTypeError\u001b[0m                                 Traceback (most recent call last)",
            "\u001b[0;32m/tmp/ipython-input-1113216922.py\u001b[0m in \u001b[0;36m<cell line: 0>\u001b[0;34m()\u001b[0m\n\u001b[1;32m     12\u001b[0m     \u001b[0mi2\u001b[0m\u001b[0;34m=\u001b[0m\u001b[0mr\u001b[0m\u001b[0;34m\u001b[0m\u001b[0;34m\u001b[0m\u001b[0m\n\u001b[1;32m     13\u001b[0m   \u001b[0mr\u001b[0m\u001b[0;34m+=\u001b[0m\u001b[0;36m1\u001b[0m\u001b[0;34m\u001b[0m\u001b[0;34m\u001b[0m\u001b[0m\n\u001b[0;32m---> 14\u001b[0;31m \u001b[0mprint\u001b[0m\u001b[0;34m(\u001b[0m\u001b[0ml\u001b[0m\u001b[0;34m[\u001b[0m\u001b[0mi1\u001b[0m\u001b[0;34m:\u001b[0m\u001b[0mi2\u001b[0m\u001b[0;34m]\u001b[0m\u001b[0;34m)\u001b[0m\u001b[0;34m\u001b[0m\u001b[0;34m\u001b[0m\u001b[0m\n\u001b[0m",
            "\u001b[0;31mTypeError\u001b[0m: 'int' object is not subscriptable"
          ]
        }
      ]
    },
    {
      "cell_type": "code",
      "source": [
        "d={}\n",
        "nums=map(int,input().split())\n",
        "for i in nums:\n",
        "  if i not in d:\n",
        "    d[i]=1\n",
        "  else:\n",
        "    d[i]+=1\n",
        "print(d)"
      ],
      "metadata": {
        "id": "uGSX7sKnbHXW",
        "colab": {
          "base_uri": "https://localhost:8080/"
        },
        "outputId": "71815cf1-1daa-4718-8731-7aa3f05dbcf3"
      },
      "execution_count": null,
      "outputs": [
        {
          "output_type": "stream",
          "name": "stdout",
          "text": [
            "5 4 1 2\n",
            "{5: 1, 4: 1, 1: 1, 2: 1}\n"
          ]
        }
      ]
    },
    {
      "cell_type": "code",
      "source": [
        "d={}\n",
        "nums=map(int,input().split())\n",
        "for i in nums:\n",
        "  if i not in d:\n",
        "    d[i]=1\n",
        "  else:\n",
        "    d[i]+=1\n",
        "max1,max2=0,0\n",
        "ele1,ele2=0,0\n",
        "for k in d:\n",
        "  if d[k]>max1:\n",
        "    max2=max1\n",
        "    max1=d[k]\n",
        "    ele2=ele1\n",
        "    ele1=k\n",
        "  elif d[k]>max2:\n",
        "    max2=d[k]\n",
        "    ele2=k\n",
        "print(ele2)"
      ],
      "metadata": {
        "colab": {
          "base_uri": "https://localhost:8080/"
        },
        "id": "e58uxWI9NegD",
        "outputId": "da92d08f-8703-42ed-ed1c-7e78212dc187"
      },
      "execution_count": null,
      "outputs": [
        {
          "output_type": "stream",
          "name": "stdout",
          "text": [
            "1 3 2 2 5 2 3 7\n",
            "3\n"
          ]
        }
      ]
    },
    {
      "cell_type": "code",
      "metadata": {
        "colab": {
          "base_uri": "https://localhost:8080/"
        },
        "id": "6aac6392",
        "outputId": "71f4a1df-5aa2-49ea-a269-5c53fb28a54b"
      },
      "source": [
        "d={}\n",
        "nums=map(int,input().split())\n",
        "for i in nums:\n",
        "  if i not in d:\n",
        "    d[i]=1\n",
        "  else:\n",
        "    d[i]+=1\n",
        "max1,max2=0,0\n",
        "ele1,ele2=0,0\n",
        "for k in d:\n",
        "  if d[k]>max1:\n",
        "    max2=max1\n",
        "    max1=d[k]\n",
        "    ele2=ele1\n",
        "    ele1=k\n",
        "  elif d[k]>max2:\n",
        "    max2=d[k]\n",
        "    ele2=k\n",
        "# ele1 now holds the element with the first largest frequency\n",
        "print(ele1)"
      ],
      "execution_count": null,
      "outputs": [
        {
          "output_type": "stream",
          "name": "stdout",
          "text": [
            "1 3 2 2 5 2 3 7\n",
            "2\n"
          ]
        }
      ]
    },
    {
      "cell_type": "code",
      "source": [
        "nums=map(int,input(\"enter the nums:\").split())\n",
        "target=9\n",
        "d={}\n",
        "for i in nums:\n",
        "  if target-i in d:\n",
        "    print(d[target-i],i)\n",
        "  d[i]=i\n",
        "\n"
      ],
      "metadata": {
        "colab": {
          "base_uri": "https://localhost:8080/"
        },
        "id": "gsabR__dbjt1",
        "outputId": "6bfd624c-8b38-4ea3-a78e-fc2d505cf9b9"
      },
      "execution_count": null,
      "outputs": [
        {
          "output_type": "stream",
          "name": "stdout",
          "text": [
            "enter the nums:6 11 2 10 7\n",
            "2 7\n"
          ]
        }
      ]
    },
    {
      "cell_type": "code",
      "source": [
        "nums=(map(int,input(\"enter the nums:\").split()))\n",
        "k=int(input(\"enter the key:\"))\n",
        "for i in nums:\n",
        "  if k==nums[i]:\n",
        "    print(i)\n",
        "    break\n",
        "else:\n",
        "  print(\"False\")\n"
      ],
      "metadata": {
        "colab": {
          "base_uri": "https://localhost:8080/",
          "height": 245
        },
        "id": "COE_tEPEq9O2",
        "outputId": "adcb7fc0-40ca-4552-97a9-5942b5d8be69"
      },
      "execution_count": null,
      "outputs": [
        {
          "name": "stdout",
          "output_type": "stream",
          "text": [
            "enter the nums:4 5 1 2\n",
            "enter the key:5\n"
          ]
        },
        {
          "output_type": "error",
          "ename": "TypeError",
          "evalue": "object of type 'map' has no len()",
          "traceback": [
            "\u001b[0;31m---------------------------------------------------------------------------\u001b[0m",
            "\u001b[0;31mTypeError\u001b[0m                                 Traceback (most recent call last)",
            "\u001b[0;32m/tmp/ipython-input-4149442875.py\u001b[0m in \u001b[0;36m<cell line: 0>\u001b[0;34m()\u001b[0m\n\u001b[1;32m      1\u001b[0m \u001b[0mnums\u001b[0m\u001b[0;34m=\u001b[0m\u001b[0;34m(\u001b[0m\u001b[0mmap\u001b[0m\u001b[0;34m(\u001b[0m\u001b[0mint\u001b[0m\u001b[0;34m,\u001b[0m\u001b[0minput\u001b[0m\u001b[0;34m(\u001b[0m\u001b[0;34m\"enter the nums:\"\u001b[0m\u001b[0;34m)\u001b[0m\u001b[0;34m.\u001b[0m\u001b[0msplit\u001b[0m\u001b[0;34m(\u001b[0m\u001b[0;34m)\u001b[0m\u001b[0;34m)\u001b[0m\u001b[0;34m)\u001b[0m\u001b[0;34m\u001b[0m\u001b[0;34m\u001b[0m\u001b[0m\n\u001b[1;32m      2\u001b[0m \u001b[0mk\u001b[0m\u001b[0;34m=\u001b[0m\u001b[0mint\u001b[0m\u001b[0;34m(\u001b[0m\u001b[0minput\u001b[0m\u001b[0;34m(\u001b[0m\u001b[0;34m\"enter the key:\"\u001b[0m\u001b[0;34m)\u001b[0m\u001b[0;34m)\u001b[0m\u001b[0;34m\u001b[0m\u001b[0;34m\u001b[0m\u001b[0m\n\u001b[0;32m----> 3\u001b[0;31m \u001b[0;32mfor\u001b[0m \u001b[0mi\u001b[0m \u001b[0;32min\u001b[0m \u001b[0mrange\u001b[0m\u001b[0;34m(\u001b[0m\u001b[0mlen\u001b[0m\u001b[0;34m(\u001b[0m\u001b[0mnums\u001b[0m\u001b[0;34m)\u001b[0m\u001b[0;34m)\u001b[0m\u001b[0;34m:\u001b[0m\u001b[0;34m\u001b[0m\u001b[0;34m\u001b[0m\u001b[0m\n\u001b[0m\u001b[1;32m      4\u001b[0m   \u001b[0;32mif\u001b[0m \u001b[0mk\u001b[0m\u001b[0;34m==\u001b[0m\u001b[0mnums\u001b[0m\u001b[0;34m[\u001b[0m\u001b[0mi\u001b[0m\u001b[0;34m]\u001b[0m\u001b[0;34m:\u001b[0m\u001b[0;34m\u001b[0m\u001b[0;34m\u001b[0m\u001b[0m\n\u001b[1;32m      5\u001b[0m     \u001b[0mprint\u001b[0m\u001b[0;34m(\u001b[0m\u001b[0mi\u001b[0m\u001b[0;34m)\u001b[0m\u001b[0;34m\u001b[0m\u001b[0;34m\u001b[0m\u001b[0m\n",
            "\u001b[0;31mTypeError\u001b[0m: object of type 'map' has no len()"
          ]
        }
      ]
    },
    {
      "cell_type": "code",
      "source": [
        "l=[3,2,1,4,5,7,8,9]\n",
        "k=7\n",
        "for i in range(len(l)):\n",
        "  if k==l[i]:\n",
        "    print(i)\n",
        "    break\n",
        "else:\n",
        "  print(\"False\")"
      ],
      "metadata": {
        "id": "_vtkjE5cumlo",
        "outputId": "e361442e-d8fa-4bcc-b9ed-c8db003dbdd3",
        "colab": {
          "base_uri": "https://localhost:8080/"
        }
      },
      "execution_count": null,
      "outputs": [
        {
          "output_type": "stream",
          "name": "stdout",
          "text": [
            "5\n"
          ]
        }
      ]
    },
    {
      "cell_type": "code",
      "source": [
        "l=[[6,7,8,11],\n",
        "   [1,5,0,15],\n",
        "   [12,10,2,19]]\n",
        "k=12\n",
        "flag=0\n",
        "for i in range(len(l)):\n",
        "  for j in range(len(l[i])):\n",
        "    if l[i][j]==k:\n",
        "      print(i,j)\n",
        "      flag=1\n",
        "      break\n",
        "  if flag==1:\n",
        "    break\n",
        "if flag==0:\n",
        "  print(\"False\")"
      ],
      "metadata": {
        "id": "qQCZKytyuyvx",
        "outputId": "145b52f1-c4e6-4900-b4ba-72d7777c9c4e",
        "colab": {
          "base_uri": "https://localhost:8080/"
        }
      },
      "execution_count": null,
      "outputs": [
        {
          "output_type": "stream",
          "name": "stdout",
          "text": [
            "2 0\n"
          ]
        }
      ]
    },
    {
      "cell_type": "code",
      "source": [
        "num=int(input(\"enter the num:\"))\n",
        "sqrt=num**2\n",
        "print(sqrt)"
      ],
      "metadata": {
        "id": "YgRzmOB4yRsN",
        "colab": {
          "base_uri": "https://localhost:8080/"
        },
        "outputId": "5603e6a7-ddb8-44d4-eefe-c0345664f69b"
      },
      "execution_count": null,
      "outputs": [
        {
          "output_type": "stream",
          "name": "stdout",
          "text": [
            "enter the num:8\n",
            "64\n"
          ]
        }
      ]
    },
    {
      "cell_type": "code",
      "source": [
        "x = int(input())\n",
        "s, e = 1, x\n",
        "result = 0\n",
        "\n",
        "while s <= e:\n",
        "    mid = (s + e) // 2\n",
        "    if mid * mid == x:\n",
        "        result = mid\n",
        "        break\n",
        "    elif mid * mid < x:\n",
        "        result = mid\n",
        "        s = mid + 1\n",
        "    else:\n",
        "        e = mid - 1\n",
        "\n",
        "print(result)"
      ],
      "metadata": {
        "colab": {
          "base_uri": "https://localhost:8080/"
        },
        "id": "Ge388dxPh4Jq",
        "outputId": "9e7bf5a3-9a07-499d-b6da-ab4282e9e642"
      },
      "execution_count": null,
      "outputs": [
        {
          "output_type": "stream",
          "name": "stdout",
          "text": [
            "25\n",
            "5\n"
          ]
        }
      ]
    },
    {
      "cell_type": "code",
      "source": [
        "l=[3,2,4,2]\n",
        "n=len(l)\n",
        "x=3\n",
        "arr=[]\n",
        "for i in range(n):\n",
        "  arr.extend([i+1]*l[i])\n",
        "l,r=0,0\n",
        "for i in range(len(arr)):\n",
        "    if arr[i]==x:\n",
        "      l=i\n",
        "      break\n",
        "for i in range(len(arr)-1,-1,-1):\n",
        "    if arr[i]==x:\n",
        "      r=i\n",
        "      break\n",
        "\n",
        "print(l,r)"
      ],
      "metadata": {
        "colab": {
          "base_uri": "https://localhost:8080/"
        },
        "id": "KaDyDoMRP1AA",
        "outputId": "c23a4b97-c54f-4342-b151-3c54ea779e64"
      },
      "execution_count": null,
      "outputs": [
        {
          "output_type": "stream",
          "name": "stdout",
          "text": [
            "5 8\n"
          ]
        }
      ]
    },
    {
      "cell_type": "code",
      "source": [
        "s=\"abbba\"\n",
        "stack=[]\n",
        "for c in s:\n",
        "  if stack and stack[-1]==c:\n",
        "    stack.pop()\n",
        "  else:\n",
        "    stack.append(c)\n",
        "print(\"\".join(stack))"
      ],
      "metadata": {
        "colab": {
          "base_uri": "https://localhost:8080/"
        },
        "id": "tp5rNknHYiCJ",
        "outputId": "a53869b0-9afd-43b5-d5b2-6c7643cb6dd8"
      },
      "execution_count": null,
      "outputs": [
        {
          "output_type": "stream",
          "name": "stdout",
          "text": [
            "aba\n"
          ]
        }
      ]
    },
    {
      "cell_type": "code",
      "source": [
        "s=\"abc**d*f\"\n",
        "stack=[]\n",
        "for c in s:\n",
        "  if stack and c=='*':\n",
        "    stack.pop()\n",
        "  else:\n",
        "    stack.append(c)\n",
        "print(\"\".join(stack))"
      ],
      "metadata": {
        "colab": {
          "base_uri": "https://localhost:8080/"
        },
        "id": "p7NwKTNqbefj",
        "outputId": "38347ee4-7663-4353-ec14-a3e58f568158"
      },
      "execution_count": null,
      "outputs": [
        {
          "output_type": "stream",
          "name": "stdout",
          "text": [
            "af\n"
          ]
        }
      ]
    },
    {
      "cell_type": "code",
      "source": [
        "def fun(n):\n",
        "  if n==0:\n",
        "    return\n",
        "  print(n,end=\"\")\n",
        "  fun(n-1)\n",
        "\n",
        "\n",
        "a=int(input(\"enter the num:\"))\n",
        "\n",
        "fun(a)"
      ],
      "metadata": {
        "id": "Ex9DGozWc-cT",
        "colab": {
          "base_uri": "https://localhost:8080/"
        },
        "outputId": "515a48be-9541-45df-f901-69993fe63445"
      },
      "execution_count": null,
      "outputs": [
        {
          "output_type": "stream",
          "name": "stdout",
          "text": [
            "enter the num:5\n",
            "54321"
          ]
        }
      ]
    },
    {
      "cell_type": "code",
      "source": [
        "def fun(n):\n",
        "  if n==0:\n",
        "    return\n",
        "  fun(n-1)\n",
        "  print(n)\n",
        "a=int(input(\"enter the num:\"))\n",
        "\n",
        "fun(a)"
      ],
      "metadata": {
        "colab": {
          "base_uri": "https://localhost:8080/"
        },
        "id": "XpcdhpPnjhTO",
        "outputId": "618d923a-fdb1-40d8-ef56-25c969a0d3c0"
      },
      "execution_count": null,
      "outputs": [
        {
          "output_type": "stream",
          "name": "stdout",
          "text": [
            "enter the num:3\n",
            "1\n",
            "2\n",
            "3\n"
          ]
        }
      ]
    },
    {
      "cell_type": "code",
      "source": [
        "def fun(n):\n",
        "  if n == 0:\n",
        "    return 200\n",
        "  t=fun(n - 1)\n",
        "  print(n, end=\" \")\n",
        "  return t\n",
        "\n",
        "a = int(input(\"enter the num:\"))\n",
        "print(fun(a))"
      ],
      "metadata": {
        "colab": {
          "base_uri": "https://localhost:8080/"
        },
        "id": "YCwVdWCQll45",
        "outputId": "eb800901-3bdd-4237-de34-80bdf704d518"
      },
      "execution_count": null,
      "outputs": [
        {
          "output_type": "stream",
          "name": "stdout",
          "text": [
            "enter the num:5\n",
            "1 2 3 4 5 200\n"
          ]
        }
      ]
    },
    {
      "cell_type": "code",
      "source": [
        "def fun(n):\n",
        "  if n==0:\n",
        "    return\n",
        "  print(n)\n",
        "  fun(n-2)\n",
        "  print(n)\n",
        "a=int(input(\"enter the num:\"))\n",
        "fun(a)\n",
        "\n",
        "\n",
        "def fun(n):\n",
        "  if n==0:\n",
        "    return\n",
        "  fun(n-2)\n",
        "  print(n)\n"
      ],
      "metadata": {
        "colab": {
          "base_uri": "https://localhost:8080/"
        },
        "id": "oIekpxgMr1QJ",
        "outputId": "9e16e53e-c89b-4e2c-9bfc-6940ca061abb"
      },
      "execution_count": null,
      "outputs": [
        {
          "output_type": "stream",
          "name": "stdout",
          "text": [
            "enter the num:10\n",
            "10\n",
            "8\n",
            "6\n",
            "4\n",
            "2\n",
            "2\n",
            "4\n",
            "6\n",
            "8\n",
            "10\n"
          ]
        }
      ]
    },
    {
      "cell_type": "code",
      "metadata": {
        "colab": {
          "base_uri": "https://localhost:8080/"
        },
        "id": "HJLkh9T1tjrX",
        "outputId": "aeb5e40c-7e87-419d-84d6-187df7f99b1d"
      },
      "source": [
        "def fun(n):\n",
        "    if n == 0:\n",
        "        return\n",
        "\n",
        "    if n % 2 == 0:\n",
        "        fun(n - 2)\n",
        "        print(n, end=\" \")\n",
        "        if n < a:\n",
        "            print(n, end=\" \")\n",
        "\n",
        "\n",
        "a = int(input(\"enter the num:\"))\n",
        "fun(a)\n",
        "print()"
      ],
      "execution_count": null,
      "outputs": [
        {
          "output_type": "stream",
          "name": "stdout",
          "text": [
            "enter the num:10\n",
            "2 4 4 6 6 8 8 10 \n"
          ]
        }
      ]
    },
    {
      "cell_type": "code",
      "source": [
        "def fun(n):\n",
        "  if n==0:\n",
        "    return\n",
        "  if n%2==0:\n",
        "    print(n)\n",
        "  fun(n-1)\n",
        "  if n%2==0 and n>2:\n",
        "    print(n)\n",
        "a=int(input(\"enter the num:\"))\n",
        "fun(a)"
      ],
      "metadata": {
        "colab": {
          "base_uri": "https://localhost:8080/"
        },
        "id": "Ub6lue9_5miH",
        "outputId": "4635468e-3913-4b84-965c-8b510b70164a"
      },
      "execution_count": null,
      "outputs": [
        {
          "output_type": "stream",
          "name": "stdout",
          "text": [
            "enter the num:10\n",
            "10\n",
            "8\n",
            "6\n",
            "4\n",
            "2\n",
            "4\n",
            "6\n",
            "8\n",
            "10\n"
          ]
        }
      ]
    },
    {
      "cell_type": "code",
      "source": [
        "def fun(n):\n",
        "  if n==0:\n",
        "    return\n",
        "\n",
        "\n",
        "  print(n)\n",
        "  fun(n-1)\n",
        "a=int(input(\"enter the num:\"))\n",
        "fun(a)"
      ],
      "metadata": {
        "colab": {
          "base_uri": "https://localhost:8080/"
        },
        "id": "w0M2XNVd6FA-",
        "outputId": "11341ecd-a093-4404-b5e8-6f2978e2bc5c"
      },
      "execution_count": null,
      "outputs": [
        {
          "output_type": "stream",
          "name": "stdout",
          "text": [
            "enter the num:10\n",
            "10\n",
            "9\n",
            "8\n",
            "7\n",
            "6\n",
            "5\n",
            "4\n",
            "3\n",
            "2\n",
            "1\n"
          ]
        }
      ]
    },
    {
      "cell_type": "code",
      "source": [
        "def fun(n,m=0):\n",
        "  if n==m:\n",
        "    return\n",
        "  print(m+2)\n",
        "  fun(n,m+2)\n",
        "  if m+2!=10:\n",
        "   print(m+2)\n",
        "\n",
        "a=int(input(\"enter the num:\"))\n",
        "fun(a)"
      ],
      "metadata": {
        "colab": {
          "base_uri": "https://localhost:8080/"
        },
        "id": "Fp1s05bl_LUR",
        "outputId": "e4cf8b7c-0dfe-4f52-e18f-4ceb29bc0a6e"
      },
      "execution_count": null,
      "outputs": [
        {
          "output_type": "stream",
          "name": "stdout",
          "text": [
            "enter the num:10\n",
            "2\n",
            "4\n",
            "6\n",
            "8\n",
            "10\n",
            "8\n",
            "6\n",
            "4\n",
            "2\n"
          ]
        }
      ]
    },
    {
      "cell_type": "code",
      "source": [
        "n=int(input(\"enter the num:\"))\n",
        "for i in range(n):\n",
        "  if n%2==0:\n",
        "    n=n//2\n",
        "  if n%2!=0:\n",
        "    n=n+1\n",
        "\n",
        "print(n)"
      ],
      "metadata": {
        "colab": {
          "base_uri": "https://localhost:8080/"
        },
        "id": "sZ9DLL_ZC5mj",
        "outputId": "98bb5c54-bbc7-48ba-f09b-16db6d488f29"
      },
      "execution_count": null,
      "outputs": [
        {
          "output_type": "stream",
          "name": "stdout",
          "text": [
            "enter the num:10\n",
            "2\n"
          ]
        }
      ]
    },
    {
      "cell_type": "code",
      "source": [
        "def fun(n):\n",
        "  if n==1:\n",
        "    return 0\n",
        "  elif n%2==0:\n",
        "    return 1+fun(n//2)\n",
        "  else:\n",
        "    return 1+min(fun(n+1),fun(n-1))\n",
        "a=int(input(\"enter the num:\"))\n",
        "fun(a)"
      ],
      "metadata": {
        "colab": {
          "base_uri": "https://localhost:8080/"
        },
        "id": "bgn1ysc6EJwf",
        "outputId": "3a07fc50-d0df-4080-a638-7f10b66ab034"
      },
      "execution_count": null,
      "outputs": [
        {
          "name": "stdout",
          "output_type": "stream",
          "text": [
            "enter the num:15\n"
          ]
        },
        {
          "output_type": "execute_result",
          "data": {
            "text/plain": [
              "5"
            ]
          },
          "metadata": {},
          "execution_count": 114
        }
      ]
    },
    {
      "cell_type": "code",
      "source": [
        "def fire(matrix,i,j):\n",
        "  if i<0 or i>=len(matrix) or j<0 or j>=len(matrix[0]) or matrix[i][j]!=1:\n",
        "    return\n",
        "  matrix[i][j]=4\n",
        "  fire(matrix,i-1,j)\n",
        "  fire(matrix,i+1,j)\n",
        "  fire(matrix,i,j-1)\n",
        "  fire(matrix,i,j+1)\n",
        "\n",
        "matrix=[[1,1,0,1],\n",
        "        [1,1,0,1],\n",
        "        [1,0,0,1],\n",
        "        [1,0,1,0]]\n",
        "fire(matrix,0,0)\n",
        "count=0\n",
        "for i in range(len(matrix)):\n",
        "  for j in range(len(matrix[0])):\n",
        "    if matrix[i][j]==1:\n",
        "      count+=1\n",
        "print(count)"
      ],
      "metadata": {
        "id": "6ucf-ELdIQJL",
        "colab": {
          "base_uri": "https://localhost:8080/"
        },
        "outputId": "8b2c70e2-7724-4000-a0a4-8816cddffc71"
      },
      "execution_count": null,
      "outputs": [
        {
          "output_type": "stream",
          "name": "stdout",
          "text": [
            "4\n"
          ]
        }
      ]
    },
    {
      "cell_type": "code",
      "source": [
        "def path(grid,i,j,p,n):\n",
        "  if i==n-1 and j==n-1:\n",
        "    print(p)\n",
        "    return\n",
        "  if i+1<n and grid[i][j]==1:\n",
        "    path(grid,i+1,j,p+\"D\",n)\n",
        "  if j+1<n and grid[i][j]==1:\n",
        "    path(grid,i,j+1,p+\"R\",n)\n",
        "matrix=[[1,0,0],\n",
        "        [1,1,0],\n",
        "        [1,1,1]]\n",
        "path(matrix,0,0,\"\",len(matrix))\n",
        "\n"
      ],
      "metadata": {
        "colab": {
          "base_uri": "https://localhost:8080/"
        },
        "id": "xjWjlPlCk3n8",
        "outputId": "d606879f-ab36-42c7-9110-71d0a8379542"
      },
      "execution_count": null,
      "outputs": [
        {
          "output_type": "stream",
          "name": "stdout",
          "text": [
            "DDRR\n",
            "DRDR\n"
          ]
        }
      ]
    },
    {
      "cell_type": "code",
      "source": [
        "n =\n",
        "\n",
        "if n < 0:\n",
        "    print(\"False\")\n",
        "else:\n",
        "    string_n = n\n",
        "    reversed_n = 0\n",
        "    while n > 0:\n",
        "        digit = n % 10\n",
        "        reversed_n = reversed_n * 10 + digit\n",
        "        n //= 10\n",
        "\n",
        "    if string_n == reversed_n:\n",
        "        print(\"palindrome number.\")\n",
        "    else:\n",
        "        print(\"not a palindrome number.\")"
      ],
      "metadata": {
        "colab": {
          "base_uri": "https://localhost:8080/",
          "height": 228
        },
        "id": "iovncIVH2TB4",
        "outputId": "ac7d6890-b0c8-48aa-b1b1-63bc624cbf61"
      },
      "execution_count": null,
      "outputs": [
        {
          "name": "stdout",
          "output_type": "stream",
          "text": [
            "Enter a character: aba\n"
          ]
        },
        {
          "output_type": "error",
          "ename": "ValueError",
          "evalue": "invalid literal for int() with base 10: 'aba'",
          "traceback": [
            "\u001b[0;31m---------------------------------------------------------------------------\u001b[0m",
            "\u001b[0;31mValueError\u001b[0m                                Traceback (most recent call last)",
            "\u001b[0;32m/tmp/ipython-input-4268555996.py\u001b[0m in \u001b[0;36m<cell line: 0>\u001b[0;34m()\u001b[0m\n\u001b[0;32m----> 1\u001b[0;31m \u001b[0mn\u001b[0m \u001b[0;34m=\u001b[0m \u001b[0mint\u001b[0m\u001b[0;34m(\u001b[0m\u001b[0minput\u001b[0m\u001b[0;34m(\u001b[0m\u001b[0;34m\"Enter a character: \"\u001b[0m\u001b[0;34m)\u001b[0m\u001b[0;34m)\u001b[0m\u001b[0;34m.\u001b[0m\u001b[0msplit\u001b[0m\u001b[0;34m(\u001b[0m\u001b[0;34m)\u001b[0m\u001b[0;34m\u001b[0m\u001b[0;34m\u001b[0m\u001b[0m\n\u001b[0m\u001b[1;32m      2\u001b[0m \u001b[0;34m\u001b[0m\u001b[0m\n\u001b[1;32m      3\u001b[0m \u001b[0;32mif\u001b[0m \u001b[0mn\u001b[0m \u001b[0;34m<\u001b[0m \u001b[0;36m0\u001b[0m\u001b[0;34m:\u001b[0m\u001b[0;34m\u001b[0m\u001b[0;34m\u001b[0m\u001b[0m\n\u001b[1;32m      4\u001b[0m     \u001b[0mprint\u001b[0m\u001b[0;34m(\u001b[0m\u001b[0;34m\"False\"\u001b[0m\u001b[0;34m)\u001b[0m\u001b[0;34m\u001b[0m\u001b[0;34m\u001b[0m\u001b[0m\n\u001b[1;32m      5\u001b[0m \u001b[0;32melse\u001b[0m\u001b[0;34m:\u001b[0m\u001b[0;34m\u001b[0m\u001b[0;34m\u001b[0m\u001b[0m\n",
            "\u001b[0;31mValueError\u001b[0m: invalid literal for int() with base 10: 'aba'"
          ]
        }
      ]
    },
    {
      "cell_type": "code",
      "metadata": {
        "id": "495c5a4d-3c3a-445b-a517-6973d196b84a",
        "colab": {
          "base_uri": "https://localhost:8080/"
        },
        "outputId": "6db389f8-7851-489b-84f5-369c162caf2e"
      },
      "source": [
        "class Solution:\n",
        "    def isPalindrome(self, s: str) -> bool:\n",
        "\n",
        "        cleaned_s = \"\".join(filter(str.isalnum, s)).lower()\n",
        "\n",
        "\n",
        "        return cleaned_s == cleaned_s[::-1]\n",
        "\n",
        "\n",
        "user_input = input(\"Enter a string: \")\n",
        "solution = Solution()\n",
        "if solution.isPalindrome(user_input):\n",
        "    print(f\"'{user_input}' is a palindrome.\")\n",
        "else:\n",
        "    print(f\"'{user_input}' is not a palindrome.\")"
      ],
      "execution_count": null,
      "outputs": [
        {
          "output_type": "stream",
          "name": "stdout",
          "text": [
            "Enter a string: aba\n",
            "'aba' is a palindrome.\n"
          ]
        }
      ]
    },
    {
      "cell_type": "code",
      "source": [
        "s=\"dabac\"\n",
        "m=0\n",
        "for i in range(len(s)):\n",
        "  r,l=i,i\n",
        "  while l>=0 and r<len(s) and s[l]==s[r]:\n",
        "    m=max(m,r-l+1)\n",
        "    r+=1\n",
        "    l-=1\n",
        "print(m)"
      ],
      "metadata": {
        "colab": {
          "base_uri": "https://localhost:8080/"
        },
        "id": "zuBnsJ-Kut1N",
        "outputId": "d79532fa-5718-415b-8b0c-86a6ff89851d"
      },
      "execution_count": null,
      "outputs": [
        {
          "output_type": "stream",
          "name": "stdout",
          "text": [
            "3\n"
          ]
        }
      ]
    },
    {
      "cell_type": "code",
      "source": [
        "s=\"dabbac\"\n",
        "m=0\n",
        "for i in range(len(s)):\n",
        "  r,l=i,i\n",
        "  while l>=0 and r<len(s) and s[l]==s[r]:\n",
        "    m=max(m,r-l+1)\n",
        "    r+=1\n",
        "    l-=1\n",
        "  r,l=i+1,i\n",
        "  while l>=0 and r<len(s) and s[l]==s[r]:\n",
        "    m=max(m,r-l+1)\n",
        "    r+=1\n",
        "    l-=1\n",
        "print(m)"
      ],
      "metadata": {
        "colab": {
          "base_uri": "https://localhost:8080/"
        },
        "id": "7MVoVeXFo3P5",
        "outputId": "785c7523-6a6d-4517-e59f-19632deea6b8"
      },
      "execution_count": null,
      "outputs": [
        {
          "output_type": "stream",
          "name": "stdout",
          "text": [
            "4\n"
          ]
        }
      ]
    },
    {
      "cell_type": "code",
      "source": [
        "s=\"dabbac\"\n",
        "m=0\n",
        "for i in range(len(s)):\n",
        "  r,l=i,i\n",
        "  while l>=0 and r<len(s) and s[l]==s[r]:\n",
        "   if m<(r-l+1):\n",
        "    m=r-l+1\n",
        "    right=r\n",
        "    left=l\n",
        "   r+=1\n",
        "   l-=1\n",
        "  r,l=i+1,i\n",
        "  while l>=0 and r<len(s) and s[l]==s[r]:\n",
        "   if m<(r-l+1):\n",
        "    m=r-l+1\n",
        "    right=r\n",
        "    left=1\n",
        "   r+=1\n",
        "   l-=1\n",
        "print(s[left:right+1])"
      ],
      "metadata": {
        "id": "vFssXCD-y15U"
      },
      "execution_count": null,
      "outputs": []
    },
    {
      "cell_type": "code",
      "source": [
        "def fib(n):\n",
        "  if n==1 and n==0:\n",
        "    return n\n",
        "  else:\n",
        "    return fib(n-1)+fib(n-2)\n",
        "\n",
        "n=int((input(\"enter the num:\")))\n",
        "fib(n)"
      ],
      "metadata": {
        "id": "m40wf2V61TWm"
      },
      "execution_count": null,
      "outputs": []
    },
    {
      "cell_type": "code",
      "source": [
        "def fib(n,dp):\n",
        "  if n==1 or n==0:\n",
        "    return n\n",
        "  if dp[n]!=-1:\n",
        "    return dp[n]\n",
        "  dp[n]=fib(n-1,dp)+fib(n-2,dp)\n",
        "  return dp[n]\n",
        "\n",
        "n=int((input(\"enter the num:\")))\n",
        "dp=[-1]*(n+1)\n",
        "print(fib(n,dp))"
      ],
      "metadata": {
        "id": "2rnqzWMl99c-"
      },
      "execution_count": null,
      "outputs": []
    },
    {
      "cell_type": "code",
      "source": [
        "n=int(input(\"enter the num:\"))\n",
        "dp=[-1]*(n+1)\n",
        "dp[0],dp[1]=0,1\n",
        "for i in range(2,n+1):\n",
        "  dp[i]=dp[i-1]+dp[i-2]\n",
        "print(dp[n])"
      ],
      "metadata": {
        "id": "D-ceSpEoBWaj"
      },
      "execution_count": null,
      "outputs": []
    },
    {
      "cell_type": "code",
      "source": [
        "n=int(input(\"enter the num:\"))\n",
        "a,b=0,1\n",
        "for i in range(2,n+1):\n",
        "  a,b=b,a+b\n",
        "print(b)"
      ],
      "metadata": {
        "id": "ZXM95rg2DLUG"
      },
      "execution_count": null,
      "outputs": []
    },
    {
      "cell_type": "code",
      "source": [],
      "metadata": {
        "id": "URR0J8MNDf0P"
      },
      "execution_count": null,
      "outputs": []
    }
  ]
}